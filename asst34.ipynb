{
 "cells": [
  {
   "cell_type": "markdown",
   "metadata": {},
   "source": [
    "Comments on the images are on the bottom"
   ]
  },
  {
   "cell_type": "code",
   "execution_count": 5,
   "metadata": {},
   "outputs": [
    {
     "data": {
      "text/plain": [
       "<matplotlib.image.AxesImage at 0x7f6563d29e50>"
      ]
     },
     "execution_count": 5,
     "metadata": {},
     "output_type": "execute_result"
    },
    {
     "data": {
      "image/png": "[encoded data removed]",
      "text/plain": [
       "<Figure size 640x480 with 1 Axes>"
      ]
     },
     "metadata": {},
     "output_type": "display_data"
    }
   ],
   "source": [
    "import numpy as np\n",
    "import scipy.signal as sp\n",
    "import matplotlib.pyplot as plt\n",
    "\n",
    "X = np.array([[1, 1, 1, 1, 1, 1, 1, 1, 1],\n",
    "             [1, 1, 1, 1, 1, 1, 1, 1, 1],\n",
    "             [1, 1, 0, 0, 0, 0, 0, 1, 1],\n",
    "             [1, 1, 1, 0, 1, 1, 0, 1, 1],\n",
    "             [1, 1, 1, 0, 1, 1, 0, 1, 1],\n",
    "             [1, 1, 1, 0, 1, 1, 0, 1, 1],\n",
    "             [1, 1, 1, 1, 1, 1, 1, 1, 1],\n",
    "             [1, 1, 1, 1, 1, 1, 1, 1, 1]])\n",
    "\n",
    "\n",
    "plt.imshow(X, cmap='gray')"
   ]
  },
  {
   "cell_type": "code",
   "execution_count": 9,
   "metadata": {},
   "outputs": [],
   "source": [
    "b = list()\n",
    "b.append(np.array([[0.25 ,0.25]\n",
    "                ,[0.25,0.25]]))\n",
    "b.append(np.array([[-1.0 ,1.0]]))\n",
    "b.append(np.array([[-1.0]\n",
    "                ,[1.0]]))\n",
    "b.append(np.array([[-1.0, 2.0, -1.0]\n",
    "                ,[-1.0, 2.0, -1.0]]))\n",
    "b.append(np.array([[-1.0, -1.0]\n",
    "                   ,[2.0,2.0]\n",
    "                ,[-1.0, -1.0]\n",
    "                ]))\n"
   ]
  },
  {
   "cell_type": "markdown",
   "metadata": {},
   "source": []
  },
  {
   "cell_type": "code",
   "execution_count": 16,
   "metadata": {},
   "outputs": [
    {
     "name": "stdout",
     "output_type": "stream",
     "text": [
      "(9, 10)\n",
      "(8, 10)\n",
      "(9, 9)\n",
      "(9, 11)\n",
      "(10, 10)\n"
     ]
    },
    {
     "data": {
      "image/png": "[encoded data removed]",
      "text/plain": [
       "<Figure size 640x480 with 5 Axes>"
      ]
     },
     "metadata": {},
     "output_type": "display_data"
    }
   ],
   "source": [
    "plt.figure()\n",
    "for i in range(5):\n",
    "    plt.subplot(1, 5, i+1, xticks=[], yticks=[])\n",
    "    image = sp.convolve2d(X,b[i])\n",
    "    print(image.shape)\n",
    "    plt.imshow(image, cmap='gray')"
   ]
  },
  {
   "cell_type": "markdown",
   "metadata": {},
   "source": [
    "We can see the convolutions accentuate certain charectersitics of the base image.\n",
    "\n",
    "1) the first image is a blurred version of the original image. The kernel results in the exterior of the shape blending into the background with the interior darker and more defined.\n",
    "\n",
    "2) This kernel accentuates the vertical outline of the shape. since the kernel is flipped the -1 touches the black first resulting in a line with the values $1*1+-1*0=1$ the opposite happens resulting in a strak of black next to the streak of white.\n",
    "\n",
    "3) This kernel accentuates the horizontal outline of the shape. since the kernel is flipped the -1 touches the black first from the top resulting in a line with the values $1*1+-1*0=1$. Then the kernel leaves black under the outline of the shape because the bottom most pixel of the shape in every column will yield $-1*1+1*0=-1$\n",
    "\n",
    "4)This kernel highlights the vertical \"legs\" of the shape. for example when the kernel is on the legs the value is $-1*1*4+2*-1*0=-4$ resulting in the legs being shown.\n",
    "\n",
    "5) this kernel does the same but vertically resulting in the top being highlighted instead of the legs."
   ]
  }
 ],
 "metadata": {
  "kernelspec": {
   "display_name": "mathML",
   "language": "python",
   "name": "python3"
  },
  "language_info": {
   "codemirror_mode": {
    "name": "ipython",
    "version": 3
   },
   "file_extension": ".py",
   "mimetype": "text/x-python",
   "name": "python",
   "nbconvert_exporter": "python",
   "pygments_lexer": "ipython3",
   "version": "3.11.4"
  },
  "orig_nbformat": 4
 },
 "nbformat": 4,
 "nbformat_minor": 2
}
